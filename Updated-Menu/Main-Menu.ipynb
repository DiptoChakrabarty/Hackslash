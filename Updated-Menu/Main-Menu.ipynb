{
 "cells": [
  {
   "cell_type": "code",
   "execution_count": 7,
   "metadata": {},
   "outputs": [],
   "source": [
    "import socket\n",
    "s=socket.socket()\n",
    "s.connect((\"192.168.43.254\",1452))"
   ]
  },
  {
   "cell_type": "code",
   "execution_count": 8,
   "metadata": {},
   "outputs": [],
   "source": [
    "def data_send(cmd):\n",
    "    s.send(cmd.encode())\n",
    "def hosts():\n",
    "    ip= \"localhost\"\n",
    "    host=input(\"Do you want to run locally or remotely\")\n",
    "    if host==\"remote\":\n",
    "        ip=input(\"Please Enter your ip address\")\n",
    "        user=input(\"Enter user name\")\n",
    "        passwd=input(\"Enter password\")\n",
    "    data_send(ip)\n",
    "    data_send(user)\n",
    "    data_send(passwd)\n",
    "def data_recv():\n",
    "    dt=s.recv(1024)\n",
    "    return dt "
   ]
  },
  {
   "cell_type": "code",
   "execution_count": 9,
   "metadata": {},
   "outputs": [
    {
     "name": "stdout",
     "output_type": "stream",
     "text": [
      "Enter Your Commandadduser\n",
      "Please enter usernamedips_iot\n",
      "Do you want to run locally or remotelyremote\n",
      "Please Enter your ip address192.168.43.66\n",
      "Enter user nameroot\n",
      "Enter passwordredhat\n",
      "Enter Your Commandexit\n"
     ]
    }
   ],
   "source": [
    "while True:\n",
    "    cmd=input(\"Enter Your Command\")\n",
    "    if cmd==\"adduser\":\n",
    "        username=input(\"Please enter username\")\n",
    "        data_send(cmd)\n",
    "        data_send(username)\n",
    "        hosts()\n",
    "    elif cmd==\"exit\":\n",
    "        data_send(cmd)\n",
    "        break"
   ]
  },
  {
   "cell_type": "code",
   "execution_count": null,
   "metadata": {},
   "outputs": [],
   "source": []
  }
 ],
 "metadata": {
  "kernelspec": {
   "display_name": "Python 3",
   "language": "python",
   "name": "python3"
  },
  "language_info": {
   "codemirror_mode": {
    "name": "ipython",
    "version": 3
   },
   "file_extension": ".py",
   "mimetype": "text/x-python",
   "name": "python",
   "nbconvert_exporter": "python",
   "pygments_lexer": "ipython3",
   "version": "3.7.0"
  }
 },
 "nbformat": 4,
 "nbformat_minor": 2
}
