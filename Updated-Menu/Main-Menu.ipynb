{
 "cells": [
  {
   "cell_type": "code",
   "execution_count": 1,
   "metadata": {},
   "outputs": [
    {
     "ename": "TimeoutError",
     "evalue": "[WinError 10060] A connection attempt failed because the connected party did not properly respond after a period of time, or established connection failed because connected host has failed to respond",
     "output_type": "error",
     "traceback": [
      "\u001b[1;31m---------------------------------------------------------------------------\u001b[0m",
      "\u001b[1;31mTimeoutError\u001b[0m                              Traceback (most recent call last)",
      "\u001b[1;32m<ipython-input-1-a6d26bcdc689>\u001b[0m in \u001b[0;36m<module>\u001b[1;34m()\u001b[0m\n\u001b[0;32m      1\u001b[0m \u001b[1;32mimport\u001b[0m \u001b[0msocket\u001b[0m\u001b[1;33m\u001b[0m\u001b[0m\n\u001b[0;32m      2\u001b[0m \u001b[0ms\u001b[0m\u001b[1;33m=\u001b[0m\u001b[0msocket\u001b[0m\u001b[1;33m.\u001b[0m\u001b[0msocket\u001b[0m\u001b[1;33m(\u001b[0m\u001b[1;33m)\u001b[0m\u001b[1;33m\u001b[0m\u001b[0m\n\u001b[1;32m----> 3\u001b[1;33m \u001b[0ms\u001b[0m\u001b[1;33m.\u001b[0m\u001b[0mconnect\u001b[0m\u001b[1;33m(\u001b[0m\u001b[1;33m(\u001b[0m\u001b[1;34m\"192.168.43.254\"\u001b[0m\u001b[1;33m,\u001b[0m\u001b[1;36m1452\u001b[0m\u001b[1;33m)\u001b[0m\u001b[1;33m)\u001b[0m\u001b[1;33m\u001b[0m\u001b[0m\n\u001b[0m",
      "\u001b[1;31mTimeoutError\u001b[0m: [WinError 10060] A connection attempt failed because the connected party did not properly respond after a period of time, or established connection failed because connected host has failed to respond"
     ]
    }
   ],
   "source": [
    "import socket\n",
    "s=socket.socket()\n",
    "s.connect((\"192.168.43.254\",1452))"
   ]
  },
  {
   "cell_type": "code",
   "execution_count": null,
   "metadata": {},
   "outputs": [],
   "source": [
    "def data_send(cmd):\n",
    "    s.send(cmd.encode())\n",
    "def hosts():\n",
    "    ip= \"localhost\"\n",
    "    host=input(\"Do you want to run locally or remotely\")\n",
    "    if host!=\"localhost\":\n",
    "        # To enter details about remote user\n",
    "        # Not considered if not localhost\n",
    "        ip=input(\"Please Enter your ip address\")\n",
    "        user=input(\"Enter user name\")\n",
    "        passwd=input(\"Enter password\")\n",
    "        data_send(ip)\n",
    "        data_send(user)\n",
    "        data_send(passwd)\n",
    "    else:\n",
    "        data_send(ip)\n",
    "def data_recv():\n",
    "    dt=s.recv(1024)\n",
    "    return dt "
   ]
  },
  {
   "cell_type": "code",
   "execution_count": null,
   "metadata": {},
   "outputs": [],
   "source": [
    "while True:\n",
    "    cmd=input(\"Enter Your Command\")\n",
    "    if cmd==\"adduser\":\n",
    "        username=input(\"Please enter username\")\n",
    "        data_send(cmd)\n",
    "        data_send(username)\n",
    "        hosts()\n",
    "    if cmd==\"yum\":\n",
    "        data_send(cmd)\n",
    "        hosts()\n",
    "    if cmd==\"webserver\":\n",
    "        server=input(\"Which server would you like to launch\")\n",
    "        data_send(cmd)\n",
    "        data_send(server)\n",
    "        hosts()\n",
    "    if cmd==\"services\":\n",
    "        data_send(cmd)\n",
    "        hosts()\n",
    "        name=input(\"Enter Service Name\")\n",
    "        state=input(\"Enter service state\")\n",
    "        data_send(name)\n",
    "        data_send(state)\n",
    "    elif cmd==\"exit\":\n",
    "        data_send(cmd)\n",
    "        break"
   ]
  },
  {
   "cell_type": "code",
   "execution_count": null,
   "metadata": {},
   "outputs": [],
   "source": []
  }
 ],
 "metadata": {
  "kernelspec": {
   "display_name": "Python 3",
   "language": "python",
   "name": "python3"
  },
  "language_info": {
   "codemirror_mode": {
    "name": "ipython",
    "version": 3
   },
   "file_extension": ".py",
   "mimetype": "text/x-python",
   "name": "python",
   "nbconvert_exporter": "python",
   "pygments_lexer": "ipython3",
   "version": "3.7.0"
  }
 },
 "nbformat": 4,
 "nbformat_minor": 2
}
