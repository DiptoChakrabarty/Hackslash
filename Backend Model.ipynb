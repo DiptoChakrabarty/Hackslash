{
 "cells": [
  {
   "cell_type": "code",
   "execution_count": 1,
   "metadata": {},
   "outputs": [
    {
     "name": "stderr",
     "output_type": "stream",
     "text": [
      "C:\\Users\\Dipto\\Anaconda33\\lib\\importlib\\_bootstrap.py:219: RuntimeWarning: numpy.ufunc size changed, may indicate binary incompatibility. Expected 216, got 192\n",
      "  return f(*args, **kwds)\n",
      "C:\\Users\\Dipto\\Anaconda33\\lib\\importlib\\_bootstrap.py:219: RuntimeWarning: numpy.ufunc size changed, may indicate binary incompatibility. Expected 192 from C header, got 216 from PyObject\n",
      "  return f(*args, **kwds)\n",
      "C:\\Users\\Dipto\\Anaconda33\\lib\\importlib\\_bootstrap.py:219: RuntimeWarning: numpy.ufunc size changed, may indicate binary incompatibility. Expected 192 from C header, got 216 from PyObject\n",
      "  return f(*args, **kwds)\n",
      "C:\\Users\\Dipto\\Anaconda33\\lib\\importlib\\_bootstrap.py:219: RuntimeWarning: numpy.ufunc size changed, may indicate binary incompatibility. Expected 216, got 192\n",
      "  return f(*args, **kwds)\n",
      "C:\\Users\\Dipto\\Anaconda33\\lib\\importlib\\_bootstrap.py:219: RuntimeWarning: numpy.ufunc size changed, may indicate binary incompatibility. Expected 192 from C header, got 216 from PyObject\n",
      "  return f(*args, **kwds)\n"
     ]
    }
   ],
   "source": [
    "import pandas as pd\n",
    "import numpy as np\n",
    "import matplotlib.pyplot as plt\n",
    "import seaborn as sns"
   ]
  },
  {
   "cell_type": "code",
   "execution_count": 8,
   "metadata": {},
   "outputs": [
    {
     "name": "stderr",
     "output_type": "stream",
     "text": [
      "C:\\Users\\Dipto\\Anaconda33\\lib\\importlib\\_bootstrap.py:219: RuntimeWarning: numpy.ufunc size changed, may indicate binary incompatibility. Expected 192 from C header, got 216 from PyObject\n",
      "  return f(*args, **kwds)\n",
      "C:\\Users\\Dipto\\Anaconda33\\lib\\importlib\\_bootstrap.py:219: RuntimeWarning: numpy.ufunc size changed, may indicate binary incompatibility. Expected 192 from C header, got 216 from PyObject\n",
      "  return f(*args, **kwds)\n",
      "C:\\Users\\Dipto\\Anaconda33\\lib\\importlib\\_bootstrap.py:219: RuntimeWarning: numpy.ufunc size changed, may indicate binary incompatibility. Expected 192 from C header, got 216 from PyObject\n",
      "  return f(*args, **kwds)\n"
     ]
    }
   ],
   "source": [
    "import nltk"
   ]
  },
  {
   "cell_type": "code",
   "execution_count": 6,
   "metadata": {},
   "outputs": [],
   "source": [
    "df=pd.read_csv(\"Training Data.csv\")"
   ]
  },
  {
   "cell_type": "code",
   "execution_count": 7,
   "metadata": {},
   "outputs": [
    {
     "data": {
      "text/html": [
       "<div>\n",
       "<style scoped>\n",
       "    .dataframe tbody tr th:only-of-type {\n",
       "        vertical-align: middle;\n",
       "    }\n",
       "\n",
       "    .dataframe tbody tr th {\n",
       "        vertical-align: top;\n",
       "    }\n",
       "\n",
       "    .dataframe thead th {\n",
       "        text-align: right;\n",
       "    }\n",
       "</style>\n",
       "<table border=\"1\" class=\"dataframe\">\n",
       "  <thead>\n",
       "    <tr style=\"text-align: right;\">\n",
       "      <th></th>\n",
       "      <th>Timestamp</th>\n",
       "      <th>Name</th>\n",
       "      <th>AGE</th>\n",
       "      <th>Gender</th>\n",
       "      <th>State</th>\n",
       "      <th>Studying in</th>\n",
       "      <th>Interests</th>\n",
       "      <th>Knowledge about that field</th>\n",
       "      <th>Achievements</th>\n",
       "      <th>What have you done in that field</th>\n",
       "      <th>technologies known</th>\n",
       "      <th>Courses taken</th>\n",
       "      <th>Expertised/Works with</th>\n",
       "    </tr>\n",
       "  </thead>\n",
       "  <tbody>\n",
       "    <tr>\n",
       "      <th>0</th>\n",
       "      <td>2019/06/21 6:28:08 PM GMT+5:30</td>\n",
       "      <td>Pinku Das</td>\n",
       "      <td>18</td>\n",
       "      <td>Male</td>\n",
       "      <td>Karnataka</td>\n",
       "      <td>Undergraduate</td>\n",
       "      <td>Machine Learning;Automation</td>\n",
       "      <td>Proper knowledge</td>\n",
       "      <td>Red hat certified in ansible</td>\n",
       "      <td>Udacity course in Machine learning , Training ...</td>\n",
       "      <td>Python, Machine Learning, Ansible, Terafform</td>\n",
       "      <td>Udacity Ml course,  Aws cloud computing</td>\n",
       "      <td>Devops engineer</td>\n",
       "    </tr>\n",
       "    <tr>\n",
       "      <th>1</th>\n",
       "      <td>2019/06/21 8:10:02 PM GMT+5:30</td>\n",
       "      <td>Saswat</td>\n",
       "      <td>20</td>\n",
       "      <td>Male</td>\n",
       "      <td>West Bengal</td>\n",
       "      <td>Undergraduate</td>\n",
       "      <td>Machine Learning;Data Science</td>\n",
       "      <td>Proper knowledge</td>\n",
       "      <td>Won Hackathons, Project Selected as in top 10 ...</td>\n",
       "      <td>Interned for machine learning post , worked an...</td>\n",
       "      <td>Machine Learning , Deep Learning , Data Scienc...</td>\n",
       "      <td>Machine learning udacity course, Googles Tenso...</td>\n",
       "      <td>Machine learning engineer</td>\n",
       "    </tr>\n",
       "    <tr>\n",
       "      <th>2</th>\n",
       "      <td>2019/06/22 2:05:34 AM GMT+5:30</td>\n",
       "      <td>Bharat</td>\n",
       "      <td>19</td>\n",
       "      <td>Male</td>\n",
       "      <td>Delhi</td>\n",
       "      <td>Undergraduate</td>\n",
       "      <td>Devops;Automation</td>\n",
       "      <td>Proper knowledge</td>\n",
       "      <td>Docker Community Lead, Best technical idea awa...</td>\n",
       "      <td>Red Hat certified in Ansible, Interned in Devo...</td>\n",
       "      <td>Ansible, puppet, Dockers</td>\n",
       "      <td>Server automation with docker</td>\n",
       "      <td>Devops  Engineer</td>\n",
       "    </tr>\n",
       "    <tr>\n",
       "      <th>3</th>\n",
       "      <td>2019/06/22 9:30:06 AM GMT+5:30</td>\n",
       "      <td>Shivani</td>\n",
       "      <td>18</td>\n",
       "      <td>Female</td>\n",
       "      <td>NaN</td>\n",
       "      <td>Job</td>\n",
       "      <td>Cloud Computing</td>\n",
       "      <td>Good knowledge</td>\n",
       "      <td>Aws Certified, Microsoft Certified</td>\n",
       "      <td>Worked in Server Hardening for Cisco</td>\n",
       "      <td>Aws, Azure,OpenStack</td>\n",
       "      <td>Aws Cloud Computing</td>\n",
       "      <td>Cloud Architect</td>\n",
       "    </tr>\n",
       "    <tr>\n",
       "      <th>4</th>\n",
       "      <td>2019/06/22 9:50:02 AM GMT+5:30</td>\n",
       "      <td>Bhrigu Shandilya</td>\n",
       "      <td>20</td>\n",
       "      <td>Male</td>\n",
       "      <td>Rajasthan</td>\n",
       "      <td>Undergraduate</td>\n",
       "      <td>Devops;Automation;Cloud Computing</td>\n",
       "      <td>Bare minimum</td>\n",
       "      <td>RHCSA,  RHcoE Ansible</td>\n",
       "      <td>NaN</td>\n",
       "      <td>Docker, Ansible, Hadoop, ML,</td>\n",
       "      <td>NaN</td>\n",
       "      <td>Student</td>\n",
       "    </tr>\n",
       "  </tbody>\n",
       "</table>\n",
       "</div>"
      ],
      "text/plain": [
       "                        Timestamp              Name  AGE  Gender        State  \\\n",
       "0  2019/06/21 6:28:08 PM GMT+5:30        Pinku Das    18    Male   Karnataka    \n",
       "1  2019/06/21 8:10:02 PM GMT+5:30           Saswat    20    Male  West Bengal   \n",
       "2  2019/06/22 2:05:34 AM GMT+5:30           Bharat    19    Male        Delhi   \n",
       "3  2019/06/22 9:30:06 AM GMT+5:30          Shivani    18  Female          NaN   \n",
       "4  2019/06/22 9:50:02 AM GMT+5:30  Bhrigu Shandilya   20    Male    Rajasthan   \n",
       "\n",
       "     Studying in                          Interests  \\\n",
       "0  Undergraduate        Machine Learning;Automation   \n",
       "1  Undergraduate      Machine Learning;Data Science   \n",
       "2  Undergraduate                  Devops;Automation   \n",
       "3            Job                    Cloud Computing   \n",
       "4  Undergraduate  Devops;Automation;Cloud Computing   \n",
       "\n",
       "  Knowledge about that field  \\\n",
       "0           Proper knowledge   \n",
       "1           Proper knowledge   \n",
       "2           Proper knowledge   \n",
       "3             Good knowledge   \n",
       "4               Bare minimum   \n",
       "\n",
       "                                        Achievements  \\\n",
       "0                      Red hat certified in ansible    \n",
       "1  Won Hackathons, Project Selected as in top 10 ...   \n",
       "2  Docker Community Lead, Best technical idea awa...   \n",
       "3                 Aws Certified, Microsoft Certified   \n",
       "4                              RHCSA,  RHcoE Ansible   \n",
       "\n",
       "                    What have you done in that field  \\\n",
       "0  Udacity course in Machine learning , Training ...   \n",
       "1  Interned for machine learning post , worked an...   \n",
       "2  Red Hat certified in Ansible, Interned in Devo...   \n",
       "3               Worked in Server Hardening for Cisco   \n",
       "4                                                NaN   \n",
       "\n",
       "                                  technologies known  \\\n",
       "0       Python, Machine Learning, Ansible, Terafform   \n",
       "1  Machine Learning , Deep Learning , Data Scienc...   \n",
       "2                          Ansible, puppet, Dockers    \n",
       "3                               Aws, Azure,OpenStack   \n",
       "4                      Docker, Ansible, Hadoop, ML,    \n",
       "\n",
       "                                       Courses taken  \\\n",
       "0           Udacity Ml course,  Aws cloud computing    \n",
       "1  Machine learning udacity course, Googles Tenso...   \n",
       "2                     Server automation with docker    \n",
       "3                                Aws Cloud Computing   \n",
       "4                                                NaN   \n",
       "\n",
       "       Expertised/Works with  \n",
       "0            Devops engineer  \n",
       "1  Machine learning engineer  \n",
       "2           Devops  Engineer  \n",
       "3            Cloud Architect  \n",
       "4                    Student  "
      ]
     },
     "execution_count": 7,
     "metadata": {},
     "output_type": "execute_result"
    }
   ],
   "source": [
    "df.head()"
   ]
  },
  {
   "cell_type": "code",
   "execution_count": 9,
   "metadata": {},
   "outputs": [
    {
     "data": {
      "text/plain": [
       "(19, 13)"
      ]
     },
     "execution_count": 9,
     "metadata": {},
     "output_type": "execute_result"
    }
   ],
   "source": [
    "df.shape"
   ]
  },
  {
   "cell_type": "code",
   "execution_count": 10,
   "metadata": {},
   "outputs": [
    {
     "name": "stdout",
     "output_type": "stream",
     "text": [
      "<class 'pandas.core.frame.DataFrame'>\n",
      "RangeIndex: 19 entries, 0 to 18\n",
      "Data columns (total 13 columns):\n",
      "Timestamp                           19 non-null object\n",
      "Name                                19 non-null object\n",
      "AGE                                 19 non-null int64\n",
      "Gender                              19 non-null object\n",
      "State                               18 non-null object\n",
      "Studying in                         19 non-null object\n",
      "Interests                           19 non-null object\n",
      "Knowledge about that field          19 non-null object\n",
      "Achievements                        19 non-null object\n",
      "What have you done in that field    18 non-null object\n",
      "technologies known                  18 non-null object\n",
      "Courses taken                       15 non-null object\n",
      "Expertised/Works with               19 non-null object\n",
      "dtypes: int64(1), object(12)\n",
      "memory usage: 2.0+ KB\n"
     ]
    }
   ],
   "source": [
    "df.info()"
   ]
  },
  {
   "cell_type": "code",
   "execution_count": 11,
   "metadata": {},
   "outputs": [
    {
     "data": {
      "text/plain": [
       "Timestamp                           0\n",
       "Name                                0\n",
       "AGE                                 0\n",
       "Gender                              0\n",
       "State                               1\n",
       "Studying in                         0\n",
       "Interests                           0\n",
       "Knowledge about that field          0\n",
       "Achievements                        0\n",
       "What have you done in that field    1\n",
       "technologies known                  1\n",
       "Courses taken                       4\n",
       "Expertised/Works with               0\n",
       "dtype: int64"
      ]
     },
     "execution_count": 11,
     "metadata": {},
     "output_type": "execute_result"
    }
   ],
   "source": [
    "df.isnull().sum()"
   ]
  },
  {
   "cell_type": "code",
   "execution_count": 12,
   "metadata": {},
   "outputs": [],
   "source": [
    "know_mapping={\"Very less\":1,\"Bare minimum\":2,\"Proper knowledge\":3,\"Good knowledge\":4}\n",
    "df[\"rating\"]=df[\"Knowledge about that field\"].map(know_mapping)\n",
    "    "
   ]
  },
  {
   "cell_type": "code",
   "execution_count": 21,
   "metadata": {},
   "outputs": [],
   "source": [
    "df.drop('Timestamp',axis=1,inplace=True)"
   ]
  },
  {
   "cell_type": "code",
   "execution_count": 22,
   "metadata": {},
   "outputs": [
    {
     "data": {
      "text/plain": [
       "Index(['Name', 'AGE', 'Gender', 'State', 'Studying in', 'Interests',\n",
       "       'Knowledge about that field', 'Achievements',\n",
       "       'What have you done in that field', 'technologies known',\n",
       "       'Courses taken', 'Expertised/Works with', 'rating'],\n",
       "      dtype='object')"
      ]
     },
     "execution_count": 22,
     "metadata": {},
     "output_type": "execute_result"
    }
   ],
   "source": [
    "df.columns"
   ]
  },
  {
   "cell_type": "code",
   "execution_count": 14,
   "metadata": {},
   "outputs": [
    {
     "data": {
      "text/html": [
       "<div>\n",
       "<style scoped>\n",
       "    .dataframe tbody tr th:only-of-type {\n",
       "        vertical-align: middle;\n",
       "    }\n",
       "\n",
       "    .dataframe tbody tr th {\n",
       "        vertical-align: top;\n",
       "    }\n",
       "\n",
       "    .dataframe thead th {\n",
       "        text-align: right;\n",
       "    }\n",
       "</style>\n",
       "<table border=\"1\" class=\"dataframe\">\n",
       "  <thead>\n",
       "    <tr style=\"text-align: right;\">\n",
       "      <th></th>\n",
       "      <th>Timestamp</th>\n",
       "      <th>Name</th>\n",
       "      <th>AGE</th>\n",
       "      <th>Gender</th>\n",
       "      <th>State</th>\n",
       "      <th>Studying in</th>\n",
       "      <th>Interests</th>\n",
       "      <th>Knowledge about that field</th>\n",
       "      <th>Achievements</th>\n",
       "      <th>What have you done in that field</th>\n",
       "      <th>technologies known</th>\n",
       "      <th>Courses taken</th>\n",
       "      <th>Expertised/Works with</th>\n",
       "      <th>rating</th>\n",
       "    </tr>\n",
       "  </thead>\n",
       "  <tbody>\n",
       "    <tr>\n",
       "      <th>0</th>\n",
       "      <td>2019/06/21 6:28:08 PM GMT+5:30</td>\n",
       "      <td>Pinku Das</td>\n",
       "      <td>18</td>\n",
       "      <td>Male</td>\n",
       "      <td>Karnataka</td>\n",
       "      <td>Undergraduate</td>\n",
       "      <td>Machine Learning;Automation</td>\n",
       "      <td>Proper knowledge</td>\n",
       "      <td>Red hat certified in ansible</td>\n",
       "      <td>Udacity course in Machine learning , Training ...</td>\n",
       "      <td>Python, Machine Learning, Ansible, Terafform</td>\n",
       "      <td>Udacity Ml course,  Aws cloud computing</td>\n",
       "      <td>Devops engineer</td>\n",
       "      <td>3</td>\n",
       "    </tr>\n",
       "    <tr>\n",
       "      <th>1</th>\n",
       "      <td>2019/06/21 8:10:02 PM GMT+5:30</td>\n",
       "      <td>Saswat</td>\n",
       "      <td>20</td>\n",
       "      <td>Male</td>\n",
       "      <td>West Bengal</td>\n",
       "      <td>Undergraduate</td>\n",
       "      <td>Machine Learning;Data Science</td>\n",
       "      <td>Proper knowledge</td>\n",
       "      <td>Won Hackathons, Project Selected as in top 10 ...</td>\n",
       "      <td>Interned for machine learning post , worked an...</td>\n",
       "      <td>Machine Learning , Deep Learning , Data Scienc...</td>\n",
       "      <td>Machine learning udacity course, Googles Tenso...</td>\n",
       "      <td>Machine learning engineer</td>\n",
       "      <td>3</td>\n",
       "    </tr>\n",
       "    <tr>\n",
       "      <th>2</th>\n",
       "      <td>2019/06/22 2:05:34 AM GMT+5:30</td>\n",
       "      <td>Bharat</td>\n",
       "      <td>19</td>\n",
       "      <td>Male</td>\n",
       "      <td>Delhi</td>\n",
       "      <td>Undergraduate</td>\n",
       "      <td>Devops;Automation</td>\n",
       "      <td>Proper knowledge</td>\n",
       "      <td>Docker Community Lead, Best technical idea awa...</td>\n",
       "      <td>Red Hat certified in Ansible, Interned in Devo...</td>\n",
       "      <td>Ansible, puppet, Dockers</td>\n",
       "      <td>Server automation with docker</td>\n",
       "      <td>Devops  Engineer</td>\n",
       "      <td>3</td>\n",
       "    </tr>\n",
       "    <tr>\n",
       "      <th>3</th>\n",
       "      <td>2019/06/22 9:30:06 AM GMT+5:30</td>\n",
       "      <td>Shivani</td>\n",
       "      <td>18</td>\n",
       "      <td>Female</td>\n",
       "      <td>NaN</td>\n",
       "      <td>Job</td>\n",
       "      <td>Cloud Computing</td>\n",
       "      <td>Good knowledge</td>\n",
       "      <td>Aws Certified, Microsoft Certified</td>\n",
       "      <td>Worked in Server Hardening for Cisco</td>\n",
       "      <td>Aws, Azure,OpenStack</td>\n",
       "      <td>Aws Cloud Computing</td>\n",
       "      <td>Cloud Architect</td>\n",
       "      <td>4</td>\n",
       "    </tr>\n",
       "    <tr>\n",
       "      <th>4</th>\n",
       "      <td>2019/06/22 9:50:02 AM GMT+5:30</td>\n",
       "      <td>Bhrigu Shandilya</td>\n",
       "      <td>20</td>\n",
       "      <td>Male</td>\n",
       "      <td>Rajasthan</td>\n",
       "      <td>Undergraduate</td>\n",
       "      <td>Devops;Automation;Cloud Computing</td>\n",
       "      <td>Bare minimum</td>\n",
       "      <td>RHCSA,  RHcoE Ansible</td>\n",
       "      <td>NaN</td>\n",
       "      <td>Docker, Ansible, Hadoop, ML,</td>\n",
       "      <td>NaN</td>\n",
       "      <td>Student</td>\n",
       "      <td>2</td>\n",
       "    </tr>\n",
       "  </tbody>\n",
       "</table>\n",
       "</div>"
      ],
      "text/plain": [
       "                        Timestamp              Name  AGE  Gender        State  \\\n",
       "0  2019/06/21 6:28:08 PM GMT+5:30        Pinku Das    18    Male   Karnataka    \n",
       "1  2019/06/21 8:10:02 PM GMT+5:30           Saswat    20    Male  West Bengal   \n",
       "2  2019/06/22 2:05:34 AM GMT+5:30           Bharat    19    Male        Delhi   \n",
       "3  2019/06/22 9:30:06 AM GMT+5:30          Shivani    18  Female          NaN   \n",
       "4  2019/06/22 9:50:02 AM GMT+5:30  Bhrigu Shandilya   20    Male    Rajasthan   \n",
       "\n",
       "     Studying in                          Interests  \\\n",
       "0  Undergraduate        Machine Learning;Automation   \n",
       "1  Undergraduate      Machine Learning;Data Science   \n",
       "2  Undergraduate                  Devops;Automation   \n",
       "3            Job                    Cloud Computing   \n",
       "4  Undergraduate  Devops;Automation;Cloud Computing   \n",
       "\n",
       "  Knowledge about that field  \\\n",
       "0           Proper knowledge   \n",
       "1           Proper knowledge   \n",
       "2           Proper knowledge   \n",
       "3             Good knowledge   \n",
       "4               Bare minimum   \n",
       "\n",
       "                                        Achievements  \\\n",
       "0                      Red hat certified in ansible    \n",
       "1  Won Hackathons, Project Selected as in top 10 ...   \n",
       "2  Docker Community Lead, Best technical idea awa...   \n",
       "3                 Aws Certified, Microsoft Certified   \n",
       "4                              RHCSA,  RHcoE Ansible   \n",
       "\n",
       "                    What have you done in that field  \\\n",
       "0  Udacity course in Machine learning , Training ...   \n",
       "1  Interned for machine learning post , worked an...   \n",
       "2  Red Hat certified in Ansible, Interned in Devo...   \n",
       "3               Worked in Server Hardening for Cisco   \n",
       "4                                                NaN   \n",
       "\n",
       "                                  technologies known  \\\n",
       "0       Python, Machine Learning, Ansible, Terafform   \n",
       "1  Machine Learning , Deep Learning , Data Scienc...   \n",
       "2                          Ansible, puppet, Dockers    \n",
       "3                               Aws, Azure,OpenStack   \n",
       "4                      Docker, Ansible, Hadoop, ML,    \n",
       "\n",
       "                                       Courses taken  \\\n",
       "0           Udacity Ml course,  Aws cloud computing    \n",
       "1  Machine learning udacity course, Googles Tenso...   \n",
       "2                     Server automation with docker    \n",
       "3                                Aws Cloud Computing   \n",
       "4                                                NaN   \n",
       "\n",
       "       Expertised/Works with  rating  \n",
       "0            Devops engineer       3  \n",
       "1  Machine learning engineer       3  \n",
       "2           Devops  Engineer       3  \n",
       "3            Cloud Architect       4  \n",
       "4                    Student       2  "
      ]
     },
     "execution_count": 14,
     "metadata": {},
     "output_type": "execute_result"
    }
   ],
   "source": [
    "df.head()"
   ]
  },
  {
   "cell_type": "code",
   "execution_count": 26,
   "metadata": {},
   "outputs": [],
   "source": [
    "def recommendations(field):\n",
    "    names=[]\n",
    "    fields=field.split(\",\")\n",
    "    if \"Machine Learning\" in fields:\n",
    "        recommend=df[df[\"Expertised/Works with\"]==\"Machine learning engineer\"]\n",
    "    #elif (\"Devops\" ,\"Automation\") in fields:\n",
    "    elif (\"Devops\" ,\"Automation\") in fields:\n",
    "        recommend=df[df[\"Expertised/Works with\"]==\"Devops Engineer\"]\n",
    "    return recommend"
   ]
  },
  {
   "cell_type": "code",
   "execution_count": 27,
   "metadata": {},
   "outputs": [
    {
     "ename": "UnboundLocalError",
     "evalue": "local variable 'recommend' referenced before assignment",
     "output_type": "error",
     "traceback": [
      "\u001b[1;31m---------------------------------------------------------------------------\u001b[0m",
      "\u001b[1;31mUnboundLocalError\u001b[0m                         Traceback (most recent call last)",
      "\u001b[1;32m<ipython-input-27-842934bc9e14>\u001b[0m in \u001b[0;36m<module>\u001b[1;34m()\u001b[0m\n\u001b[1;32m----> 1\u001b[1;33m \u001b[0mprint\u001b[0m\u001b[1;33m(\u001b[0m\u001b[0mrecommendations\u001b[0m\u001b[1;33m(\u001b[0m\u001b[1;34m\"Devops\"\u001b[0m\u001b[1;33m)\u001b[0m\u001b[1;33m)\u001b[0m\u001b[1;33m\u001b[0m\u001b[0m\n\u001b[0m",
      "\u001b[1;32m<ipython-input-26-f14c9a51b239>\u001b[0m in \u001b[0;36mrecommendations\u001b[1;34m(field)\u001b[0m\n\u001b[0;32m      6\u001b[0m     \u001b[1;32melif\u001b[0m \u001b[1;33m(\u001b[0m\u001b[1;34m\"Devops\"\u001b[0m \u001b[1;33m,\u001b[0m\u001b[1;34m\"Automation\"\u001b[0m\u001b[1;33m)\u001b[0m \u001b[1;32min\u001b[0m \u001b[0mfields\u001b[0m\u001b[1;33m:\u001b[0m\u001b[1;33m\u001b[0m\u001b[0m\n\u001b[0;32m      7\u001b[0m         \u001b[0mrecommend\u001b[0m\u001b[1;33m=\u001b[0m\u001b[0mdf\u001b[0m\u001b[1;33m[\u001b[0m\u001b[0mdf\u001b[0m\u001b[1;33m[\u001b[0m\u001b[1;34m\"Expertised/Works with\"\u001b[0m\u001b[1;33m]\u001b[0m\u001b[1;33m==\u001b[0m\u001b[1;34m\"Devops Engineer\"\u001b[0m\u001b[1;33m]\u001b[0m\u001b[1;33m\u001b[0m\u001b[0m\n\u001b[1;32m----> 8\u001b[1;33m     \u001b[1;32mreturn\u001b[0m \u001b[0mrecommend\u001b[0m\u001b[1;33m\u001b[0m\u001b[0m\n\u001b[0m",
      "\u001b[1;31mUnboundLocalError\u001b[0m: local variable 'recommend' referenced before assignment"
     ]
    }
   ],
   "source": [
    "print(recommendations(\"Devops\"))"
   ]
  },
  {
   "cell_type": "code",
   "execution_count": null,
   "metadata": {},
   "outputs": [],
   "source": []
  },
  {
   "cell_type": "code",
   "execution_count": null,
   "metadata": {},
   "outputs": [],
   "source": []
  },
  {
   "cell_type": "code",
   "execution_count": null,
   "metadata": {},
   "outputs": [],
   "source": []
  },
  {
   "cell_type": "code",
   "execution_count": null,
   "metadata": {},
   "outputs": [],
   "source": []
  },
  {
   "cell_type": "code",
   "execution_count": null,
   "metadata": {},
   "outputs": [],
   "source": []
  }
 ],
 "metadata": {
  "kernelspec": {
   "display_name": "Python 3",
   "language": "python",
   "name": "python3"
  },
  "language_info": {
   "codemirror_mode": {
    "name": "ipython",
    "version": 3
   },
   "file_extension": ".py",
   "mimetype": "text/x-python",
   "name": "python",
   "nbconvert_exporter": "python",
   "pygments_lexer": "ipython3",
   "version": "3.7.0"
  }
 },
 "nbformat": 4,
 "nbformat_minor": 2
}
