{
 "cells": [
  {
   "cell_type": "code",
   "execution_count": 1,
   "metadata": {},
   "outputs": [],
   "source": [
    "import socket\n",
    "import pyttsx3 as pt\n",
    "s=socket.socket()\n",
    "sp=pt.init()\n",
    "sp.say(\"Welcome Master\")\n",
    "sp.runAndWait()\n",
    "s.connect((\"192.168.43.254\",1324))\n",
    "sp.say(\"Connected\")\n",
    "sp.runAndWait()"
   ]
  },
  {
   "cell_type": "code",
   "execution_count": 2,
   "metadata": {},
   "outputs": [
    {
     "name": "stdout",
     "output_type": "stream",
     "text": [
      "Please Enter your commandadduser\n",
      "Please Enter your commandexit\n"
     ]
    }
   ],
   "source": [
    "while True:\n",
    "    cmd = input(\"Please Enter your command\")\n",
    "    if \"adduser\" in cmd:\n",
    "        s.send(\"adduser\".encode())\n",
    "    if \"run httpd\" in cmd:\n",
    "        s.send(\"httpd\".encode())\n",
    "    if \"run nginx\" in cmd:\n",
    "        s.send(\"nginx\".encode())\n",
    "    if \"launch docker\" in cmd:\n",
    "        s.send(\"docker\".encode())\n",
    "    else: \n",
    "        s.send(\"exit\".encode())\n",
    "        break\n",
    "        \n",
    "        \n",
    "    "
   ]
  },
  {
   "cell_type": "code",
   "execution_count": null,
   "metadata": {},
   "outputs": [],
   "source": []
  }
 ],
 "metadata": {
  "kernelspec": {
   "display_name": "Python 3",
   "language": "python",
   "name": "python3"
  },
  "language_info": {
   "codemirror_mode": {
    "name": "ipython",
    "version": 3
   },
   "file_extension": ".py",
   "mimetype": "text/x-python",
   "name": "python",
   "nbconvert_exporter": "python",
   "pygments_lexer": "ipython3",
   "version": "3.6.6"
  }
 },
 "nbformat": 4,
 "nbformat_minor": 2
}
