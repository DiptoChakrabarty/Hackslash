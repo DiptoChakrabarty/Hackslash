{
 "cells": [
  {
   "cell_type": "code",
   "execution_count": 1,
   "metadata": {},
   "outputs": [],
   "source": [
    "import socket\n",
    "import pyttsx3 as pt\n",
    "s=socket.socket()\n",
    "sp=pt.init()\n",
    "sp.say(\"Welcome Master\")\n",
    "sp.runAndWait()\n",
    "s.connect((\"192.168.43.254\",1324))\n",
    "sp.say(\"Connected\")\n",
    "sp.runAndWait()\n"
   ]
  },
  {
   "cell_type": "code",
   "execution_count": 2,
   "metadata": {},
   "outputs": [
    {
     "name": "stdout",
     "output_type": "stream",
     "text": [
      "Please Enter your command remoteuser\n",
      "Enter Ip address192.168.43.228\n",
      "Please Enter Username donkey\n",
      "Please Enter your command \n"
     ]
    }
   ],
   "source": [
    "while True:\n",
    "    cmd = input(\"Please Enter your command \")\n",
    "    if \"adduser\" in cmd:\n",
    "        s.send(\"adduser\".encode())\n",
    "        username=input(\"Please Enter Username \")\n",
    "        s.send(username.encode())\n",
    "    elif \"run httpd\" in cmd:\n",
    "        s.send(\"httpd\".encode())\n",
    "    elif \"run nginx\" in cmd:\n",
    "        s.send(\"nginx\".encode())\n",
    "    elif \"launch docker\" in cmd:\n",
    "        s.send(\"docker\".encode())\n",
    "        name=input(\"Provide the docker name\")\n",
    "        s.send(name.encode())\n",
    "    elif \"send mail\" in cmd:\n",
    "        send_to=input(\"Whom do you want to send\")\n",
    "        file_path=input(\"Enter File Path\")\n",
    "        s.send(\"mail\".encode())\n",
    "        s.send(send_to.encode())\n",
    "        s.send(file_path.encode())\n",
    "    elif \"date\"  in cmd:\n",
    "        s.send(\"date\".encode())\n",
    "        dt=s.recv(1024)\n",
    "        print(dt)\n",
    "    elif \"remoteuser\" in cmd:\n",
    "        s.send(\"remoteadduser\".encode())\n",
    "        ip=input(\"Enter Ip address\")\n",
    "        s.send(ip.encode())\n",
    "        username=input(\"Please Enter Username \")\n",
    "        s.send(username.encode())\n",
    "    else: \n",
    "        s.send(\"exit\".encode())\n",
    "        break\n",
    "        \n",
    "        \n",
    "    "
   ]
  },
  {
   "cell_type": "code",
   "execution_count": null,
   "metadata": {},
   "outputs": [],
   "source": []
  },
  {
   "cell_type": "code",
   "execution_count": null,
   "metadata": {},
   "outputs": [],
   "source": []
  }
 ],
 "metadata": {
  "kernelspec": {
   "display_name": "Python 3",
   "language": "python",
   "name": "python3"
  },
  "language_info": {
   "codemirror_mode": {
    "name": "ipython",
    "version": 3
   },
   "file_extension": ".py",
   "mimetype": "text/x-python",
   "name": "python",
   "nbconvert_exporter": "python",
   "pygments_lexer": "ipython3",
   "version": "3.7.0"
  }
 },
 "nbformat": 4,
 "nbformat_minor": 2
}
